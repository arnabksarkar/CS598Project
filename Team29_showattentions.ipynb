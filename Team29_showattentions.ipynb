{
 "cells": [
  {
   "cell_type": "code",
   "execution_count": 1,
   "id": "cdea8932",
   "metadata": {},
   "outputs": [],
   "source": [
    "import csv\n",
    "import pandas as pd\n",
    "import numpy  as np\n",
    "import math\n",
    "\n",
    "target = 'VANCOMYCIN'\n",
    "time_steps = 14\n",
    "person_count = 0\n",
    "features_count = 0\n",
    "dayrun = 13\n",
    "\n",
    "#header_pre_list = ['PERSON','DAY','Y_TEST','DAYS b4 Y_TEST eq 1','ACTmax', 'ACTmin', 'ACTstd']\n",
    "header_pre_list = ['PERSON','DAY','Y_TEST','DAYSb4EVENT']"
   ]
  },
  {
   "cell_type": "code",
   "execution_count": 2,
   "id": "331b7374",
   "metadata": {},
   "outputs": [
    {
     "name": "stdout",
     "output_type": "stream",
     "text": [
      "features df: <bound method DataFrame.count of                         0\n",
      "0                     bun\n",
      "1                     hdl\n",
      "2                     inr\n",
      "3    inspired o2 fraction\n",
      "4                     ldl\n",
      "..                    ...\n",
      "219            tacrolimus\n",
      "220             trazodone\n",
      "221           vasopressin\n",
      "222              warfarin\n",
      "223              zolpidem\n",
      "\n",
      "[224 rows x 1 columns]>                         0\n",
      "0                     bun\n",
      "1                     hdl\n",
      "2                     inr\n",
      "3    inspired o2 fraction\n",
      "4                     ldl\n",
      "..                    ...\n",
      "219            tacrolimus\n",
      "220             trazodone\n",
      "221           vasopressin\n",
      "222              warfarin\n",
      "223              zolpidem\n",
      "\n",
      "[224 rows x 1 columns]\n",
      "header_list ['PERSON', 'DAY', 'Y_TEST', 'DAYSb4EVENT', 'bun', 'hdl', 'inr', 'inspired o2 fraction', 'ldl', 'peep set', 'ptt', 'rbcs', 'wbcs', 'anion gap', 'atypical lymphocytes', 'bands', 'basophils', 'blood culture', 'central venous pressure', 'chloride', 'creatinine', 'daily weight', 'diabetes', 'diastolic', 'eosinophils', 'glucose', 'heart rate', 'hemocrit', 'hemoglobin', 'lymphocytes', 'monocytes', 'neutrophils', 'platelets', 'polymorphonuclear leukocytes', 'potassium', 'pulse oximetry', 'respiratory rate', 'sodium', 'systolic', 'temperature (f)', 'tidal volume', 'tobacco', 'triglycerides', 'troponin', 'bun_std', 'hdl_std', 'inr_std', 'inspired o2 fraction_std', 'ldl_std', 'peep set_std', 'ptt_std', 'rbcs_std', 'wbcs_std', 'anion gap_std', 'atypical lymphocytes_std', 'bands_std', 'basophils_std', 'central venous pressure_std', 'chloride_std', 'creatinine_std', 'diastolic_std', 'eosinophils_std', 'glucose_std', 'heart rate_std', 'hemocrit_std', 'hemoglobin_std', 'lymphocytes_std', 'monocytes_std', 'neutrophils_std', 'platelets_std', 'polymorphonuclear leukocytes_std', 'potassium_std', 'pulse oximetry_std', 'respiratory rate_std', 'sodium_std', 'systolic_std', 'temperature (f)_std', 'tidal volume_std', 'triglycerides_std', 'troponin_std', 'bun_min', 'hdl_min', 'inr_min', 'inspired o2 fraction_min', 'ldl_min', 'peep set_min', 'ptt_min', 'rbcs_min', 'wbcs_min', 'anion gap_min', 'atypical lymphocytes_min', 'bands_min', 'basophils_min', 'central venous pressure_min', 'chloride_min', 'creatinine_min', 'diastolic_min', 'eosinophils_min', 'glucose_min', 'heart rate_min', 'hemocrit_min', 'hemoglobin_min', 'lymphocytes_min', 'monocytes_min', 'neutrophils_min', 'platelets_min', 'polymorphonuclear leukocytes_min', 'potassium_min', 'pulse oximetry_min', 'respiratory rate_min', 'sodium_min', 'systolic_min', 'temperature (f)_min', 'tidal volume_min', 'triglycerides_min', 'troponin_min', 'bun_max', 'hdl_max', 'inr_max', 'inspired o2 fraction_max', 'ldl_max', 'peep set_max', 'ptt_max', 'rbcs_max', 'wbcs_max', 'anion gap_max', 'atypical lymphocytes_max', 'bands_max', 'basophils_max', 'central venous pressure_max', 'chloride_max', 'creatinine_max', 'diastolic_max', 'eosinophils_max', 'glucose_max', 'heart rate_max', 'hemocrit_max', 'hemoglobin_max', 'lymphocytes_max', 'monocytes_max', 'neutrophils_max', 'platelets_max', 'polymorphonuclear leukocytes_max', 'potassium_max', 'pulse oximetry_max', 'respiratory rate_max', 'sodium_max', 'systolic_max', 'temperature (f)_max', 'tidal volume_max', 'triglycerides_max', 'troponin_max', 'black', 'age', 'm', '0.9% sodium chloride', 'smx-tmp', 'acetominophen', 'albuterol', 'amiodarone', 'amoxicillin', 'ampicillin-sulbactam', 'asprin', 'atenolol', 'atropine', 'calcium gluconate', 'captopril', 'carvedilol', 'cefazolin', 'cefepime', 'ceftriaxone', 'clonazepam', 'clopidogrel', 'dextrose', 'diazepam', 'digoxin', 'diltiazem', 'diphenhydramine', 'enoxaparin', 'epoetin', 'fentanyl', 'fentanyl citrate', 'fluconazole', 'fondaparinux', 'furosemide', 'glucagon', 'haloperidol', 'heparin', 'hydralazine', 'hydrochlorothiazide', 'hydromorphone', 'insulin', 'ipratropium', 'labetalol', 'levetiracetam', 'levofloxacin', 'levothyroxine', 'lisinopril', 'magensium sulfate', 'meropenem', 'metoclopramide', 'metoprolol', 'metronidazole', 'midazolam', 'nafcillin', 'neostigmine', 'nitroglycerin', 'nitroprusside', 'norepinephrine', 'ondansetron', 'oxacillin', 'oxycodone', 'pantoprazole', 'penicillin', 'phenylephrine', 'phenytoin', 'phytonadione', 'piperacillin', 'potassium_med', 'prednisone', 'propofol', 'ranitidine', 'statin', 'tacrolimus', 'trazodone', 'vasopressin', 'warfarin', 'zolpidem']\n"
     ]
    }
   ],
   "source": [
    "#attention_features_{target} \n",
    "from itertools import chain\n",
    "features = pd.read_csv('./saved_csvs/attention_features_{0}.csv'.format(target), header=0, index_col=0)\n",
    "print(\"features df:\", features.count, features)\n",
    "\n",
    "features_count = features.shape[0] \n",
    "features = features.values.tolist()\n",
    "features_list = list(chain.from_iterable(features)) #flatten 2D list to 1D\n",
    "#print(\"features list:\", features.count, features_list)\n",
    "\n",
    "#Create and write the header line\n",
    "header_list = header_pre_list + features_list\n",
    "print(\"header_list\", header_list)"
   ]
  },
  {
   "cell_type": "code",
   "execution_count": 3,
   "id": "f0ac60c6",
   "metadata": {},
   "outputs": [],
   "source": [
    "#======================================================================================================\n",
    "#Prepare ground truths matrix and daysb4 matrix\n",
    "#Y_TEST_{target}_day_{0-13} *ground truth*\n",
    "#for day in range(time_steps):\n",
    "\n",
    "\n",
    "for day in range(time_steps):\n",
    "    y_test = pd.read_csv('./saved_csvs/Y_TEST_{0}_day_{1}.csv'.format(target, day), header=None, skiprows=1, index_col=0)\n",
    "    person_count = y_test.shape[0]\n",
    "    if day == 0:\n",
    "        y_test_groundtruth   = np.zeros((person_count, time_steps), dtype=int)\n",
    "        y_test_daysb4event   = np.zeros((person_count, time_steps), dtype=int)\n",
    "        #print(\"y_test_groundtruth.shape:\", y_test_groundtruth.shape)\n",
    "        \n",
    "    #print(\"day:\", day, \" y_test_groundtruth[:,day].shape:\", y_test_groundtruth[:, day].shape)\n",
    "    #print(\"y_test[1].shape:\", y_test[1].shape)\n",
    "    y_test_groundtruth[:, day] = y_test[1] \n"
   ]
  },
  {
   "cell_type": "code",
   "execution_count": 4,
   "id": "1d4b02c3",
   "metadata": {},
   "outputs": [
    {
     "name": "stdout",
     "output_type": "stream",
     "text": [
      "person 6  y_test_groundtruth: [0 0 0 0 0 1 1 1 1 0 0 0 0 0]\n",
      "person 6  y_test_daysb4event: [ 5  4  3  2  1  0  0  0  0 -1 -1 -1 -1 -1]\n",
      "person 10  y_test_groundtruth: [0 0 0 0 0 0 0 0 0 0 0 0 0 0]\n",
      "person 10  y_test_daysb4event: [-1 -1 -1 -1 -1 -1 -1 -1 -1 -1 -1 -1 -1 -1]\n",
      "person 11  y_test_groundtruth: [0 0 0 0 0 0 0 0 0 0 0 0 0 0]\n",
      "person 11  y_test_daysb4event: [-1 -1 -1 -1 -1 -1 -1 -1 -1 -1 -1 -1 -1 -1]\n",
      "person 8433  y_test_groundtruth: [0 0 0 0 0 0 0 0 0 0 0 0 0 0]\n",
      "person 8433  y_test_daysb4event: [-1 -1 -1 -1 -1 -1 -1 -1 -1 -1 -1 -1 -1 -1]\n"
     ]
    }
   ],
   "source": [
    "    \n",
    "#     for person in range(10):\n",
    "#         print(\"person:\", person, y_test_groundtruth[person])\n",
    "\n",
    "#get index of days before clinical event happened e.g.\n",
    "# y_test_groundtruth[person] [1, 0, 1, 0, 0, 1, 0, 0, 0, 1,  0,  0,  0,  0 ]\n",
    "# y_test_daysb4event[person] [0, 1, 0, 2, 1, 0, 3, 2, 1, 0, -1, -1, -1, -1 ]\n",
    "for person in range(person_count): \n",
    "    daysb4 = -1\n",
    "    for day in range(time_steps-1, -1, -1): #traverse list backwards\n",
    "        if y_test_groundtruth[person][day] == 1: #day of event\n",
    "            daysb4 = 0\n",
    "        elif daysb4 != -1:\n",
    "            daysb4 += 1\n",
    "        y_test_daysb4event[person][day] = daysb4\n",
    "        \n",
    "    if person in (6, 10, 11, 8433):    \n",
    "        print(\"person\", person, \" y_test_groundtruth:\", y_test_groundtruth[person])        \n",
    "        print(\"person\", person, \" y_test_daysb4event:\", y_test_daysb4event[person])        \n"
   ]
  },
  {
   "cell_type": "code",
   "execution_count": 5,
   "id": "f33251d3",
   "metadata": {},
   "outputs": [
    {
     "name": "stdout",
     "output_type": "stream",
     "text": [
      "features_count, activations[1].shape: 224 (224,)\n"
     ]
    }
   ],
   "source": [
    "f = open('./saved_csvs/activations_order_{0}.csv'.format(target), 'a', newline='') #open output file\n",
    "#f = open('./saved_csvs/activations_order_{0}.csv'.format(target), 'w', newline='') #w for day 0, a for the restopen output file\n",
    "#f = open('./saved_csvs/activations_order_{0}_{1}.csv'.format(target,day), 'w', newline='') #open output file\n",
    "writer = csv.writer(f) #create the csv writer\n",
    "writer.writerow(header_list)\n",
    "#=========================================================================================================\n",
    "#read activations for each day\n",
    "numcol = 4 + features_count\n",
    "work_day = np.empty((numcol), dtype=int)\n",
    "#print(\"work_day shape, person_count:\", work_day.shape, person_count)\n",
    "#for day in range(time_steps): #julia later change this to time_steps\n",
    "    #activation_{target}_day_{0-13}\n",
    "activations = pd.read_csv('./saved_csvs/activations_{0}_day_{1}.csv'.format(target, dayrun), index_col=0)\n",
    "if isinstance(activations, pd.DataFrame):\n",
    "    activations = activations.to_numpy()\n",
    "\n",
    "#Loop through each line, remember the original order of the feature activations\n",
    "#then sort the activations in ascending order, then label their order in row 2.\n",
    "#then sort by row 1 back to original order\n",
    "#then save row 2 as the actual order of the activation magnitude\n",
    "reverse_ixorder = np.arange(start=(features_count), stop=0, step=-1)\n",
    "print(\"features_count, activations[1].shape:\", features_count, activations[1].shape)\n",
    "for person in range(person_count):\n",
    "    work_day[0] = person  #save person index\n",
    "    work_day[1] = dayrun\n",
    "    work_day[2] = y_test_groundtruth[person, dayrun] #ground truth\n",
    "    work_day[3] = y_test_daysb4event[person, dayrun] #days before event\n",
    "\n",
    "#         print(\"activations[person]:\", activations[person])\n",
    "    sort_act = np.zeros((3, features_count), dtype=float)\n",
    "    sort_act[0] = np.arange(start=0, stop=(features_count), step=1)\n",
    "    sort_act[1] = activations[person]\n",
    "    #if person == 11:\n",
    "    #    print(\"1: sort_act before sort:\", sort_act.shape, sort_act)\n",
    "    sort_act = sort_act[:, sort_act[1,:].argsort()]\n",
    "    #if person == 11:\n",
    "    #    print(\"2: sort_act after sort:\", sort_act.shape, sort_act)\n",
    "    #nans will sort highest so mark these as -1\n",
    "    orderix = 1.0\n",
    "    for j in range(features_count):\n",
    "        jx = features_count - 1 - j\n",
    "        if math.isnan(sort_act[1][jx]):\n",
    "            sort_act[2][jx] = -1\n",
    "        else:\n",
    "            sort_act[2][jx] = orderix\n",
    "            orderix += 1.0\n",
    "\n",
    "    sort_act = sort_act[:, sort_act[0,:].argsort()]\n",
    "    #if person == 11:\n",
    "    #    print(\"3: sort_act after re-sort:\", sort_act.shape, sort_act)\n",
    "    for t in range(features_count):\n",
    "        work_day[(4+t)] = int(sort_act[2, t]) #save order of activations\n",
    "\n",
    "   \n",
    "    writer.writerow(work_day)        \n",
    "    \n",
    "f.close() #close the output csv    \"\n"
   ]
  },
  {
   "cell_type": "code",
   "execution_count": null,
   "id": "14418a22",
   "metadata": {},
   "outputs": [],
   "source": []
  }
 ],
 "metadata": {
  "kernelspec": {
   "display_name": "Python [conda env:py39]",
   "language": "python",
   "name": "conda-env-py39-py"
  },
  "language_info": {
   "codemirror_mode": {
    "name": "ipython",
    "version": 3
   },
   "file_extension": ".py",
   "mimetype": "text/x-python",
   "name": "python",
   "nbconvert_exporter": "python",
   "pygments_lexer": "ipython3",
   "version": "3.9.12"
  }
 },
 "nbformat": 4,
 "nbformat_minor": 5
}
